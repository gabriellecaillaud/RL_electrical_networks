{
 "cells": [
  {
   "cell_type": "markdown",
   "source": [
    "# Système multi-agents pour reprise d'installations électiques"
   ],
   "metadata": {}
  },
  {
   "cell_type": "markdown",
   "source": [
    "L'objectif final est de concevoir une méthodologie pour former une stratégie de réparation du système de distribution HTA en situation de crise."
   ],
   "metadata": {}
  },
  {
   "cell_type": "markdown",
   "source": [
    "Techniquement, la conception est divisée en trois parties complémentaires :\n",
    "\n",
    "    1 - Simuler l'environnement du système de distribution HTA -Anylogic- \n",
    "    2 - Sélectionner l'algorithme d'apprentissage par renforcement le plus pertinent pour ce type de problème -PPO- \n",
    "    3 - Construire un lien entre le simulateur et l'algorithme d'entraînement RL.\n",
    "\n",
    "Ensuite, nous lançons l'entraînement du modèle RL sur le simulateur d'environnement et enfin, nous testons notre simulation avec le modèle entraîné.\n"
   ],
   "metadata": {}
  },
  {
   "cell_type": "markdown",
   "source": [
    "Remarque :\n",
    "    \n",
    "    - Créez un nouveau environnement et installer tous les packages nécessaires\n",
    "    - N'oubliez pas de changer les chemin d'accès dans le code."
   ],
   "metadata": {}
  },
  {
   "cell_type": "markdown",
   "source": [
    "## Implémentation de PPO :"
   ],
   "metadata": {}
  },
  {
   "cell_type": "markdown",
   "source": [
    "Proximal Policy Optimization (PPO) est utilisée dans plusieurs solutions pour entraîner un modèle de décision sur un environnement industriel. PPO permet d'entraîner un modèle sur un espace d'actions discrètes ou continues. Il est plus rapide à converger et surpasse A2C et DDPG avec de bonnes performances.\n",
    "\n"
   ],
   "metadata": {}
  },
  {
   "cell_type": "markdown",
   "source": [
    "Article de \"Towards Data Science\":\n",
    "The idea is that PPO improves the stability of the Actor training by limiting the policy update at each training step.\n"
   ],
   "metadata": {}
  },
  {
   "cell_type": "code",
   "execution_count": null,
   "source": [
    "import argparse\n",
    "import os\n",
    "import random\n",
    "import time\n",
    "from distutils.util import strtobool\n",
    "import numpy as np\n",
    "# on utilise Pytorch pour construire et entrainer notre modele PPO\n",
    "import torch\n",
    "import torch.nn as nn\n",
    "import torch.optim as optim\n",
    "from torch.distributions.categorical import Categorical\n",
    "from torch.utils.tensorboard import SummaryWriter\n",
    "import time"
   ],
   "outputs": [],
   "metadata": {}
  },
  {
   "cell_type": "markdown",
   "source": [
    "# Les observations sur lesquelles on travaille \n",
    "\n",
    "[etatequipement=[0, 0, 1, 0, 0, 0, 0, 0, 0, 0, 0, 0, 0, 0, 0, 0, 0, 0, 0, 0, 1, 0, 0, 0, 0, 0, 0, 1, 0, 0, 0, 0, 0, 0, 0, 0, 0, 0, 0, 0, 0, 0, 0, 0, 0, 0, 0, 0, 1, 0], disponibleequipe=[1, 1, 1], emplequipe=[50, 50, 50], recompns=15500.0]"
   ],
   "metadata": {}
  },
  {
   "cell_type": "markdown",
   "source": [
    "# Les actions à prendre doivent être sous la forme \n",
    "\n",
    "a.req1 = 2  # l'equipe 1 vers l'équipement 1\n",
    "\n",
    "a.req2 = 6 # l'equipe 2 vers l'équipement 2\n",
    "\n",
    "a.req3 = 48 # l\"equipe 3 vers l'equipement 3"
   ],
   "metadata": {}
  },
  {
   "cell_type": "code",
   "execution_count": null,
   "source": [
    "import alpyne\n",
    "from alpyne.client import alpyne_client\n",
    "from alpyne.client.alpyne_client import AlpyneClient\n",
    "from alpyne.data.spaces import Action"
   ],
   "outputs": [],
   "metadata": {}
  },
  {
   "cell_type": "markdown",
   "source": [
    "    IMPORTANT: Il faut mettre l'emplacement du modèle exporté de Anylogic.\n",
    "    \n",
    "    le modèle de simulation doit utiliser la classe RLExperiment pour définir l'espace d'action, d'observation et de configuration initiale.\n",
    "\n",
    "    Le modèle anylogic doit contenir un événement cyclique (qui se déclenche à chaque période de temps) avec la méthode RLtakeAction()."
   ],
   "metadata": {}
  },
  {
   "cell_type": "code",
   "execution_count": null,
   "source": [
    "# initialisation d'une couche de Réseau de Neurones - Neural Network 'NN'\n",
    "def layer_init(layer, std=np.sqrt(2), bias_const=0.0):\n",
    "    #Transforme en matrice orthogonale\n",
    "    torch.nn.init.orthogonal_(layer.weight, std)\n",
    "    torch.nn.init.constant_(layer.bias, bias_const)\n",
    "    return layer"
   ],
   "outputs": [],
   "metadata": {}
  },
  {
   "cell_type": "code",
   "execution_count": null,
   "source": [
    "class agent_PPO(nn.Module):\n",
    "    '''\n",
    "    Attention ! Il reste des 'len' à modifier par des .size si jamais on les met sous forme de tenseur pytorch\n",
    "    '''\n",
    "\n",
    "    def __init__(self,obs0):\n",
    "       #on considère que obs0 est l'objet alpyne des observations initiales\n",
    "       #super().__init__ permet d'indiquer que agent_PPO est une sous-classe de nn.Module \n",
    "        super(agent_PPO,self).__init__()\n",
    "\n",
    "        self.obs0=obs0\n",
    "        self.n_equipe=len(obs0.disponibleequipe)\n",
    "        self.n_equipement=len(obs0.etatequipement)\n",
    "\n",
    "        #std = variance\n",
    "        self.critic = nn.Sequential(\n",
    "            layer_init(nn.Linear(self.n_equipement, 64)),\n",
    "            nn.Tanh(),\n",
    "            layer_init(nn.Linear(64, 64)),\n",
    "            nn.Tanh(),\n",
    "            layer_init(nn.Linear(64, 1), std=1.0),\n",
    "            \n",
    "        )\n",
    "        # NN de actor (pour la politique)\n",
    "        self.actor = nn.Sequential(\n",
    "            layer_init(nn.Linear(self.n_equipement, 64)),\n",
    "            nn.Tanh(),\n",
    "            layer_init(nn.Linear(64, 64)),\n",
    "            nn.Tanh(),\n",
    "            layer_init(nn.Linear(64, self.n_equipement*self.n_equipe), std=0.01))\n",
    "    \n",
    "\n",
    "    def get_value(self, x):\n",
    "        return self.critic(x)\n",
    "\n",
    "    def get_action_and_value(self, x, action=None):\n",
    "        #Les logits sont les probabilités de chaque action \n",
    "        logits = self.actor(x)\n",
    "        if logits.nelement()>self.n_equipe*self.n_equipement:\n",
    "            logits=logits.reshape([x.size(0),self.n_equipe,self.n_equipement])\n",
    "        else:\n",
    "            logits=logits.reshape([self.n_equipe,self.n_equipement])\n",
    "        probs = Categorical(logits=logits)\n",
    "        if action is None:\n",
    "            action = probs.sample()\n",
    "        return action, probs.log_prob(action), probs.entropy(), self.critic(x)\n",
    "\n"
   ],
   "outputs": [],
   "metadata": {}
  },
  {
   "cell_type": "code",
   "execution_count": null,
   "source": [
    "x=torch.tensor([[[1,0.2,3],[2,3,4]],[[3,4,1],[5,6,1]]])\n",
    "x2=torch.tensor([1,0.2,3,2,3,4,3,4,1,5,6,1])\n",
    "x3=torch.tensor([0.2,0.4,6])\n",
    "\n",
    "print(x.size(0))\n",
    "y=x2.reshape([x.size(0),2,3])\n",
    "x.nele\n",
    "print(y)"
   ],
   "outputs": [],
   "metadata": {}
  },
  {
   "cell_type": "code",
   "execution_count": null,
   "source": [
    "n_equipe=3\n",
    "n_equipement=50\n",
    "logits=torch.rand(n_equipe*n_equipement)\n",
    "print(logits.size())\n",
    "logits=logits.reshape([3,50])\n",
    "print(logits.size())\n",
    "probs = Categorical(logits=logits)\n",
    "action = probs.sample()\n",
    "print(action)\n",
    "\n"
   ],
   "outputs": [],
   "metadata": {}
  },
  {
   "cell_type": "code",
   "execution_count": null,
   "source": [
    "x=torch.tensor([[1,2],[3,4]])\n",
    "print(x.sum(dim=-1))"
   ],
   "outputs": [],
   "metadata": {}
  },
  {
   "cell_type": "markdown",
   "source": [
    "# Les paramètres "
   ],
   "metadata": {}
  },
  {
   "cell_type": "markdown",
   "source": [
    "Paramètres environnement"
   ],
   "metadata": {}
  },
  {
   "cell_type": "code",
   "execution_count": null,
   "source": [
    "# seed des expériences\n",
    "seed =1\n",
    "\n",
    "# Le nombre des environnements parallèles\n",
    "num_envs = 1\n",
    "# Le nombre de pas à exécuter dans un seul environnement pendant la phase policy rollout (128)\n",
    "num_steps =128"
   ],
   "outputs": [],
   "metadata": {}
  },
  {
   "cell_type": "markdown",
   "source": [
    "Paramètres d'entrainements "
   ],
   "metadata": {}
  },
  {
   "cell_type": "code",
   "execution_count": null,
   "source": [
    "# Le nombre total des pas-de-temps des expériences\n",
    "total_timesteps = 128 #500 de base\n",
    "\n",
    "gamma=0.95 #Discount qui prend en compte jusqu'à 100 étapes dans le calcul de la reward \n",
    "\n",
    "\n",
    "# Pour réduire le pas d'apprentissage(learning_rate) des NN, politique(Pi) et valeur (VF) \"\n",
    "anneal_lr = True\n",
    "\n",
    "learning_rate = 2.5e-4 #Pas d'apprentissage de l'optimizer, on pourra essayer quelque chose de l'ordre de 10^-3 par la suite \n",
    "\n",
    "batch_size = int(num_envs * num_steps)\n",
    "num_minibatches = 4\n",
    "\n",
    "minibatch_size = int(batch_size // num_minibatches)\n",
    "\n",
    "epochs=10\n",
    "\n",
    "epsilon_greedy=0.1 #Probabilité d'explorer initiale \n",
    "\n",
    "# Lambda pour GAE\n",
    "gae_lambda = 0.95\n",
    "\n",
    "# Utilisation de GAE : General Advantage Estimation \n",
    "gae = True\n",
    "\n",
    "# le seuil de KL divergence\n",
    "target_kl = None\n",
    "\n",
    "# permmettre la normalisation de l'advantages (soustraire la moyenne / diviser par l'écart type)\n",
    "norm_adv = True\n",
    "\n",
    "# le coefficient de clipping PPO (epsilon)\n",
    "clip_coef = 0.2\n",
    "# Permettre l'utilisation de clipped loss dans la fonction valeur\n",
    "clip_vloss = True\n",
    "\n",
    "#Coefficient d'entropie. Dans le PPO un coefficient d’entropie est multiplié à l’entropie maximale possible \n",
    "# et ajouté à la fonction objectif. Ceci contribue à la régularisation en prévenant une convergence prématurée \n",
    "# vers une action de probabilité élevée. Entropie élevée : actions équiprobables\n",
    "\n",
    "ent_coef = 0.01\n",
    "# coefficient de la fonction valeur dans la fonction obj\n",
    "vf_coef = 0.5\n",
    "# la norme maximale pour le gradient clipping\n",
    "max_grad_norm = 0.5\n",
    "\n",
    "# les K epochs pour mise à jour la politique\n",
    "update_epochs = 4"
   ],
   "outputs": [],
   "metadata": {}
  },
  {
   "cell_type": "code",
   "execution_count": null,
   "source": [
    "# Cette instance est créée pour lancer l'environnement de simulation.\n",
    "# Pour lancer la simulation le modèle de simulation anylogic doit etre fini avec la classe RLExperiment et exporté.\n",
    "# Il faut mettre l'emplacement du modèle exporté de Anylogic.\n",
    "client = AlpyneClient(r\"/Volumes/Stock/IA/Code/Anylogic/RL_Anylogic/Exported/model.jar\", verbose = True, port = 51150)"
   ],
   "outputs": [],
   "metadata": {}
  },
  {
   "cell_type": "code",
   "execution_count": null,
   "source": [
    "cfg = client.configuration_template\n",
    "cfg.nbequipe = 3\n",
    "cfg.engine_seed = 1\n",
    "sim = client.create_reinforcement_learning(cfg)\n",
    "sim=sim.run()\n",
    "obs=sim.get_observation()\n",
    "print(obs.etatequipement)"
   ],
   "outputs": [],
   "metadata": {}
  },
  {
   "cell_type": "code",
   "execution_count": null,
   "source": [
    "def lancesimul(client):\n",
    "    cfg = client.configuration_template\n",
    "    cfg.nbequipe = 3\n",
    "    cfg.engine_seed = 1\n",
    "    sim = client.create_reinforcement_learning(cfg)\n",
    "    sim=sim.run()\n",
    "    obs=sim.get_observation()\n",
    "    print(sim)\n",
    "    return obs\n",
    "\n",
    "obs=lancesimul(client)"
   ],
   "outputs": [],
   "metadata": {}
  },
  {
   "cell_type": "code",
   "execution_count": null,
   "source": [
    "print(obs.etatequipement)"
   ],
   "outputs": [],
   "metadata": {}
  },
  {
   "cell_type": "code",
   "execution_count": null,
   "source": [
    "# initialisation de la configuration du simulateur \n",
    "cfg = client.configuration_template\n",
    "cfg.nbequipe = 3\n",
    "cfg.engine_seed = 1  "
   ],
   "outputs": [],
   "metadata": {}
  },
  {
   "cell_type": "code",
   "execution_count": null,
   "source": [
    "# lancement d'une simulation avec la configuration initiale\n",
    "sim = client.create_reinforcement_learning(cfg)\n",
    "sim=sim.run()"
   ],
   "outputs": [],
   "metadata": {}
  },
  {
   "cell_type": "code",
   "execution_count": null,
   "source": [
    "obs=sim.get_observation()\n",
    "print(obs.etatequipement)\n"
   ],
   "outputs": [],
   "metadata": {}
  },
  {
   "cell_type": "code",
   "execution_count": null,
   "source": [
    "cfg = client.configuration_template\n",
    "cfg.nbequipe = 3\n",
    "cfg.engine_seed = 1\n",
    "# lancement d'une simulation avec la configuration initiale\n",
    "sim = client.create_reinforcement_learning(cfg)\n",
    "sim=sim.run()\n",
    "obs=sim.get_observation()\n",
    "print(obs.etatequipement)\n"
   ],
   "outputs": [],
   "metadata": {}
  },
  {
   "cell_type": "code",
   "execution_count": null,
   "source": [
    "def lance_simul_2(cfg):\n",
    "    sim = client.create_reinforcement_learning(cfg)\n",
    "    sim=sim.run()\n",
    "    return sim\n",
    "\n",
    "def lance_obs(simulation):\n",
    "    simulation.stop()\n",
    "    obs=simulation.get_observation()\n",
    "    print(obs.etatequipement)\n",
    "\n",
    "sim=lance_simul_2(cfg)\n",
    "lance_obs(sim)"
   ],
   "outputs": [],
   "metadata": {}
  },
  {
   "cell_type": "code",
   "execution_count": null,
   "source": [
    "#sim=sim.stop()\n",
    "obs=sim.get_observation()\n",
    "print(obs.etatequipement)\n"
   ],
   "outputs": [],
   "metadata": {}
  },
  {
   "cell_type": "code",
   "execution_count": null,
   "source": [
    "a=client.action_template\n",
    "a.req1=2\n",
    "a.req2=49\n",
    "a.req3=30\n",
    "sim.take_action(a)"
   ],
   "outputs": [],
   "metadata": {}
  },
  {
   "cell_type": "code",
   "execution_count": null,
   "source": [
    "obs=sim.get_observation()\n",
    "agent=agent_PPO(obs)\n",
    "print(obs)"
   ],
   "outputs": [],
   "metadata": {}
  },
  {
   "cell_type": "code",
   "execution_count": null,
   "source": [
    "L=torch.Tensor([])\n",
    "def train():\n",
    "\n",
    "    # Initialiser l'environnement\n",
    "    # client = AlpyneClient(r\"/Volumes/Stock/IA/Code/Anylogic/RL_Anylogic/Exported/model.jar\", verbose = True, port = 51150)\n",
    "\n",
    "    # cfg = client.configuration_template\n",
    "    # cfg.nbequipe = 3\n",
    "    # cfg.engine_seed = 1  \n",
    "    # sim = client.create_reinforcement_learning(cfg)\n",
    "    # sim=sim.run()\n",
    "    # obs=sim.get_observation()\n",
    "    # print(\"new sim :\",obs.etatequipement)\n",
    "    # agent=agent_PPO(obs)\n",
    "\n",
    "    global L\n",
    "    global agent\n",
    "    global sim\n",
    "\n",
    "    # Initialiser l'agent    \n",
    "    optimizer = torch.optim.Adam(agent.parameters(), lr=learning_rate, eps=1e-5)\n",
    "\n",
    "    # Initialisation de l'espace de stockage (buffer) \n",
    "    obs = torch.zeros((num_steps, agent.n_equipement,num_envs)) # Une colonne = 1 environnement différent si on veut upgrade \n",
    "    actions = torch.zeros((num_steps, agent.n_equipe,num_envs))\n",
    "    logprobs = torch.zeros((num_steps,agent.n_equipe, num_envs))\n",
    "    rewards = torch.zeros((num_steps, num_envs))\n",
    "    dones = torch.zeros((num_steps, num_envs))\n",
    "    values = torch.zeros((num_steps, num_envs))\n",
    "\n",
    "    # Commencer l'entrainement\n",
    "    global_step = 0\n",
    "    start_time = time.time()\n",
    "    next_obs = torch.Tensor(sim.get_observation().etatequipement) # APLYNE, attention : fonctionnel pour un seul environnement\n",
    "    next_obs=next_obs[:,None ] #À modifier si jamais il y a plus d'un env \n",
    "    next_done = torch.zeros(num_envs)\n",
    "    num_updates = total_timesteps // batch_size\n",
    "    for update in range(1, num_updates + 1):\n",
    "        # Déminuer le taux d'apprentissage si aneal_lr : vrai\n",
    "        '''\n",
    "        print(\"new sim :\",sim.get_observation().etatequipement)\n",
    "        next_obs= torch.Tensor(sim.get_observation().etatequipement)\n",
    "        next_obs=next_obs[:,None ]\n",
    "        '''\n",
    "        \n",
    "        if anneal_lr:\n",
    "            frac = 1.0 - (update - 1.0) / num_updates\n",
    "            lrnow = frac * learning_rate\n",
    "            optimizer.param_groups[0][\"lr\"] = lrnow #Pour changer le learning rate de l'optimizer\n",
    "        #Phase rollout\n",
    "        for step in range(num_steps):\n",
    "            global_step+=1*num_envs\n",
    "            obs[step]=next_obs #Observations sur le nombre total d'étapes (steps) pour chaque environnement, pour l'instant un seul\n",
    "            dones[step]=next_done\n",
    "            with torch.no_grad():\n",
    "                action,log_prob,_,value=agent.get_action_and_value(next_obs.flatten()) #Changer le flatten en reshape pour plusieurs env\n",
    "                values[step]=value.flatten()\n",
    "            \n",
    "            action=action[:,None ] #À modifier si jamais il y a plus d'un env \n",
    "            actions[step]=action\n",
    "\n",
    "            log_prob=log_prob[:,None]\n",
    "            logprobs[step]=log_prob\n",
    "\n",
    "            #Execution des actions\n",
    "            a=client.action_template\n",
    "\n",
    "            # A CHANGER\n",
    "            a.req1=action[0].item()\n",
    "            a.req2=action[1].item()\n",
    "            a.req3=action[2].item()\n",
    "\n",
    "            #\n",
    "            sim.take_action(a)\n",
    "            observ=sim.get_observation()\n",
    "            next_obs,reward,done=observ.etatequipement,observ.recompns,sim.is_terminal()\n",
    "\n",
    "            reward=torch.Tensor([reward]).view(-1)\n",
    "            reward=reward[:,None]\n",
    "\n",
    "            rewards[step]=reward\n",
    "            next_obs,next_done=torch.Tensor(next_obs),torch.Tensor([done])\n",
    "            next_obs=next_obs[:,None ] #À modifier si jamais il y a plus d'un env\n",
    "\n",
    "\n",
    "            print(f'\\r global_step={global_step}, step={step}, reward={reward}')\n",
    "        # Calcul de la fonction Advantage\n",
    "        with torch.no_grad():\n",
    "            next_value = agent.get_value(next_obs.flatten()).reshape(1, -1)\n",
    "            if gae:\n",
    "                advantages = torch.zeros_like(rewards)\n",
    "                lastgaelam = 0\n",
    "                for t in reversed(range(num_steps)):\n",
    "                    if t == num_steps - 1:\n",
    "                        nextnonterminal = 1.0 - next_done\n",
    "                        nextvalues = next_value\n",
    "                    else:\n",
    "                        nextnonterminal = 1.0 - dones[t + 1]\n",
    "                        nextvalues = values[t + 1]\n",
    "                    delta = rewards[t] + gamma * nextvalues * nextnonterminal - values[t]\n",
    "                    advantages[t] = lastgaelam = delta + gamma * gae_lambda * nextnonterminal * lastgaelam\n",
    "                returns = advantages + values\n",
    "            else:\n",
    "                returns = torch.zeros_like(rewards)\n",
    "                for t in reversed(range(num_steps)):\n",
    "                    if t == num_steps - 1:\n",
    "                        nextnonterminal = 1.0 - next_done\n",
    "                        next_return = next_value\n",
    "                    else:\n",
    "                        nextnonterminal = 1.0 - dones[t + 1]\n",
    "                        next_return = returns[t + 1]\n",
    "                    returns[t] = rewards[t] + gamma * nextnonterminal * next_return\n",
    "                advantages = returns - values\n",
    "\n",
    "        # le batch : avoir un vecteur de tous les éléments utilisés\n",
    "        b_obs = obs.reshape((-1,) + (len(observ.etatequipement),))\n",
    "        b_logprobs = logprobs.reshape((-1,) + (agent.n_equipe,))\n",
    "        b_actions = actions.reshape((-1,) + (len(observ.disponibleequipe),))\n",
    "        b_advantages = advantages.reshape(-1)\n",
    "        b_returns = returns.reshape(-1)\n",
    "        b_values = values.reshape(-1)\n",
    "\n",
    "        # Optimisation de la fonction valeur et la politique\n",
    "        b_inds = np.arange(batch_size)\n",
    "        clipfracs = []\n",
    "        for epoch in range(update_epochs):\n",
    "            np.random.shuffle(b_inds)\n",
    "            # mini-batching\n",
    "            for start in range(0, batch_size, minibatch_size):\n",
    "                end = start + minibatch_size\n",
    "                mb_inds = b_inds[start:end]\n",
    "                #print(\"mb_inds size is:\",mb_inds.shape)\n",
    "                #print(\"L'élément perturbateur size :\",b_obs[mb_inds].size())\n",
    "\n",
    "                _, newlogprob, entropy, newvalue = agent.get_action_and_value(b_obs[mb_inds], b_actions.long()[mb_inds])\n",
    "\n",
    "                #print(\"new log prob size :\",newlogprob.size())\n",
    "                #print('b_logprobs size :',b_logprobs[mb_inds].size())\n",
    "                logratio = newlogprob - b_logprobs[mb_inds]\n",
    "                ratio = logratio.exp()\n",
    "\n",
    "                with torch.no_grad():\n",
    "                    # calcul de approx_kl http://joschu.net/blog/kl-approx.html\n",
    "                    old_approx_kl = (-logratio).mean()\n",
    "                    approx_kl = ((ratio - 1) - logratio).mean()\n",
    "                    clipfracs += [((ratio - 1.0).abs() > clip_coef).float().mean().item()]\n",
    "                    ratio=ratio.sum(dim=-1) # À MODIFIER PLUS TARD\n",
    "\n",
    "                mb_advantages = b_advantages[mb_inds]\n",
    "                # normalisation de l'avantage \n",
    "                if norm_adv:\n",
    "                    mb_advantages = (mb_advantages - mb_advantages.mean()) / (mb_advantages.std() + 1e-8)\n",
    "                # Coût associé à la politique\n",
    "                pg_loss1 = -mb_advantages * ratio\n",
    "                pg_loss2 = -mb_advantages * torch.clamp(ratio, 1 - clip_coef, 1 + clip_coef)\n",
    "                pg_loss = torch.max(pg_loss1, pg_loss2).mean()\n",
    "\n",
    "                # Coût associé à la fonction valeur\n",
    "                newvalue = newvalue.view(-1)\n",
    "                if clip_vloss:\n",
    "                    v_loss_unclipped = (newvalue - b_returns[mb_inds]) ** 2\n",
    "                    v_clipped = b_values[mb_inds] + torch.clamp(\n",
    "                        newvalue - b_values[mb_inds],\n",
    "                        -clip_coef,\n",
    "                        clip_coef,\n",
    "                    )\n",
    "                    v_loss_clipped = (v_clipped - b_returns[mb_inds]) ** 2\n",
    "                    v_loss_max = torch.max(v_loss_unclipped, v_loss_clipped)\n",
    "                    v_loss = 0.5 * v_loss_max.mean()\n",
    "                else:\n",
    "                    v_loss = 0.5 * ((newvalue - b_returns[mb_inds]) ** 2).mean()\n",
    "\n",
    "                entropy_loss = entropy.mean()\n",
    "                loss = pg_loss - ent_coef * entropy_loss + v_loss * vf_coef\n",
    "\n",
    "                optimizer.zero_grad()\n",
    "                loss.backward()\n",
    "                nn.utils.clip_grad_norm_(agent.parameters(), max_grad_norm)\n",
    "                optimizer.step()\n",
    "                with torch.no_grad():\n",
    "                    loss=torch.tensor([loss.item()])\n",
    "                    L=torch.cat((L,loss))\n",
    "\n",
    "            # early stopping\n",
    "            if target_kl is not None:\n",
    "                if approx_kl > target_kl:\n",
    "                    break\n",
    "        \n",
    "            #print(\"epoch loss is :\",loss)\n",
    "    y_pred, y_true = b_values.cpu().numpy(), b_returns.cpu().numpy()\n",
    "    var_y = np.var(y_true)\n",
    "    end_time=time.time()\n",
    "    print(\"computation time :\",end_time-start_time)\n",
    "        \n",
    "    explained_var = np.nan if var_y == 0 else 1 - np.var(y_true - y_pred) / var_y\n",
    "\n"
   ],
   "outputs": [],
   "metadata": {}
  },
  {
   "cell_type": "code",
   "execution_count": null,
   "source": [
    "train()"
   ],
   "outputs": [],
   "metadata": {}
  },
  {
   "cell_type": "code",
   "execution_count": 150,
   "source": [
    "sim = client.create_reinforcement_learning(cfg)\n",
    "sim=sim.run()"
   ],
   "outputs": [
    {
     "output_type": "stream",
     "name": "stderr",
     "text": [
      "2022-12-15 11:00:51,357 [alpyne.client.http_client @ 31][   DEBUG] POST /runs: {'experimentType': <ExperimentType.REINFORCEMENT_LEARNING: 'REINFORCEMENT_LEARNING'>, 'inputs': [nbequipe:INTEGER=3, {START_TIME}:DOUBLE=0 HOUR, {START_DATE}:DATE_TIME=2019-12-31T23:00:00Z, {STOP_TIME}:DOUBLE=inf HOUR, {STOP_DATE}:DATE_TIME=None, {RANDOM_SEED}:LONG=1]}\n",
      "2022-12-15 11:00:51,844 [alpyne.client.http_client @ 64][   DEBUG] => 201 (Created) [('Location', 'http://127.0.0.1:51150/runs/25'), ('Content-Type', 'application/json'), ('Connection', 'close'), ('Content-Length', '148')] {'message': '{\"reason\":null,\"next_event_time\":\"-Infinity\",\"episode_count\":1,\"step_count\":0,\"model_time\":0.0}', 'id': 25, 'status': 'RUNNING'}\n"
     ]
    }
   ],
   "metadata": {}
  },
  {
   "cell_type": "code",
   "execution_count": 151,
   "source": [
    "print(sim.get_observation().etatequipement)"
   ],
   "outputs": [
    {
     "output_type": "stream",
     "name": "stderr",
     "text": [
      "2022-12-15 11:00:54,383 [alpyne.client.http_client @ 31][   DEBUG] POST /runs/25/rl: {'command': 'OBSERVATION'}\n",
      "2022-12-15 11:00:54,389 [alpyne.client.http_client @ 64][   DEBUG] => 200 (OK) [('Content-Type', 'application/json'), ('Connection', 'close'), ('Content-Length', '339')] [{'name': 'etatequipement', 'type': 'INTEGER_ARRAY', 'value': [0, 0, 0, 0, 0, 0, 0, 0, 0, 0, 0, 0, 0, 0, 0, 0, 0, 0, 0, 0, 0, 0, 0, 0, 1, 0, 0, 0, 0, 0, 0, 0, 0, 0, 0, 0, 0, 0, 0, 0, 0, 1, 0, 0, 0, 0, 0, 0, 1, 0]}, {'name': 'disponibleequipe', 'type': 'INTEGER_ARRAY', 'value': [1, 1, 1]}, {'name': 'emplequipe', 'type': 'INTEGER_ARRAY', 'value': [50, 50, 50]}, {'name': 'recompns', 'type': 'DOUBLE', 'value': 0.0}]\n"
     ]
    },
    {
     "output_type": "stream",
     "name": "stdout",
     "text": [
      "[0, 0, 0, 0, 0, 0, 0, 0, 0, 0, 0, 0, 0, 0, 0, 0, 0, 0, 0, 0, 0, 0, 0, 0, 1, 0, 0, 0, 0, 0, 0, 0, 0, 0, 0, 0, 0, 0, 0, 0, 0, 1, 0, 0, 0, 0, 0, 0, 1, 0]\n"
     ]
    }
   ],
   "metadata": {}
  },
  {
   "cell_type": "code",
   "execution_count": 153,
   "source": [
    "print(L[-1])"
   ],
   "outputs": [
    {
     "output_type": "stream",
     "name": "stdout",
     "text": [
      "tensor(35983368.)\n"
     ]
    }
   ],
   "metadata": {}
  },
  {
   "cell_type": "code",
   "execution_count": 154,
   "source": [
    "listLoss=[36490512,23562762,18746246,20216252,33927208,21864838,16960928,24454698,23487084,44983588,32008492,22165332,35983368]\n",
    "s=0\n",
    "listIndex=[i for i in range(len(listLoss))]\n",
    "\n",
    "normLoss=[]\n",
    "for i in range(len(listLoss)):\n",
    "    loss=listLoss[i]\n",
    "    normLoss.append(loss/max(listLoss))\n",
    "\n",
    "print(normLoss)\n",
    "\n"
   ],
   "outputs": [
    {
     "output_type": "stream",
     "name": "stdout",
     "text": [
      "[0.8111961189045214, 0.5238079719207814, 0.4167352324140973, 0.4494139507057552, 0.7542130254260732, 0.4860625613056922, 0.3770470243503031, 0.5436360034241822, 0.5221256250168395, 1.0, 0.71155933581821, 0.49274264204980717, 0.7999221404926614]\n"
     ]
    }
   ],
   "metadata": {}
  },
  {
   "cell_type": "code",
   "execution_count": 155,
   "source": [
    "import matplotlib.pyplot as plt\n",
    "\n",
    "plt.plot(listIndex,normLoss,'ro')\n",
    "plt.axis([0,len(listIndex),0,max(normLoss)])\n",
    "plt.show()\n",
    "\n"
   ],
   "outputs": [
    {
     "output_type": "display_data",
     "data": {
      "text/plain": [
       "<Figure size 640x480 with 1 Axes>"
      ],
      "image/svg+xml": "<?xml version=\"1.0\" encoding=\"utf-8\" standalone=\"no\"?>\n<!DOCTYPE svg PUBLIC \"-//W3C//DTD SVG 1.1//EN\"\n  \"http://www.w3.org/Graphics/SVG/1.1/DTD/svg11.dtd\">\n<svg xmlns:xlink=\"http://www.w3.org/1999/xlink\" width=\"394.423125pt\" height=\"300.989344pt\" viewBox=\"0 0 394.423125 300.989344\" xmlns=\"http://www.w3.org/2000/svg\" version=\"1.1\">\n <metadata>\n  <rdf:RDF xmlns:dc=\"http://purl.org/dc/elements/1.1/\" xmlns:cc=\"http://creativecommons.org/ns#\" xmlns:rdf=\"http://www.w3.org/1999/02/22-rdf-syntax-ns#\">\n   <cc:Work>\n    <dc:type rdf:resource=\"http://purl.org/dc/dcmitype/StillImage\"/>\n    <dc:date>2022-12-15T11:02:10.271046</dc:date>\n    <dc:format>image/svg+xml</dc:format>\n    <dc:creator>\n     <cc:Agent>\n      <dc:title>Matplotlib v3.5.2, https://matplotlib.org/</dc:title>\n     </cc:Agent>\n    </dc:creator>\n   </cc:Work>\n  </rdf:RDF>\n </metadata>\n <defs>\n  <style type=\"text/css\">*{stroke-linejoin: round; stroke-linecap: butt}</style>\n </defs>\n <g id=\"figure_1\">\n  <g id=\"patch_1\">\n   <path d=\"M 0 300.989344 \nL 394.423125 300.989344 \nL 394.423125 0 \nL 0 0 \nz\n\" style=\"fill: #ffffff\"/>\n  </g>\n  <g id=\"axes_1\">\n   <g id=\"patch_2\">\n    <path d=\"M 30.103125 277.111219 \nL 387.223125 277.111219 \nL 387.223125 10.999219 \nL 30.103125 10.999219 \nz\n\" style=\"fill: #ffffff\"/>\n   </g>\n   <g id=\"matplotlib.axis_1\">\n    <g id=\"xtick_1\">\n     <g id=\"line2d_1\">\n      <defs>\n       <path id=\"m0269f78210\" d=\"M 0 0 \nL 0 3.5 \n\" style=\"stroke: #000000; stroke-width: 0.8\"/>\n      </defs>\n      <g>\n       <use xlink:href=\"#m0269f78210\" x=\"30.103125\" y=\"277.111219\" style=\"stroke: #000000; stroke-width: 0.8\"/>\n      </g>\n     </g>\n     <g id=\"text_1\">\n      <!-- 0 -->\n      <g transform=\"translate(26.921875 291.709656)scale(0.1 -0.1)\">\n       <defs>\n        <path id=\"DejaVuSans-30\" d=\"M 2034 4250 \nQ 1547 4250 1301 3770 \nQ 1056 3291 1056 2328 \nQ 1056 1369 1301 889 \nQ 1547 409 2034 409 \nQ 2525 409 2770 889 \nQ 3016 1369 3016 2328 \nQ 3016 3291 2770 3770 \nQ 2525 4250 2034 4250 \nz\nM 2034 4750 \nQ 2819 4750 3233 4129 \nQ 3647 3509 3647 2328 \nQ 3647 1150 3233 529 \nQ 2819 -91 2034 -91 \nQ 1250 -91 836 529 \nQ 422 1150 422 2328 \nQ 422 3509 836 4129 \nQ 1250 4750 2034 4750 \nz\n\" transform=\"scale(0.015625)\"/>\n       </defs>\n       <use xlink:href=\"#DejaVuSans-30\"/>\n      </g>\n     </g>\n    </g>\n    <g id=\"xtick_2\">\n     <g id=\"line2d_2\">\n      <g>\n       <use xlink:href=\"#m0269f78210\" x=\"85.044663\" y=\"277.111219\" style=\"stroke: #000000; stroke-width: 0.8\"/>\n      </g>\n     </g>\n     <g id=\"text_2\">\n      <!-- 2 -->\n      <g transform=\"translate(81.863413 291.709656)scale(0.1 -0.1)\">\n       <defs>\n        <path id=\"DejaVuSans-32\" d=\"M 1228 531 \nL 3431 531 \nL 3431 0 \nL 469 0 \nL 469 531 \nQ 828 903 1448 1529 \nQ 2069 2156 2228 2338 \nQ 2531 2678 2651 2914 \nQ 2772 3150 2772 3378 \nQ 2772 3750 2511 3984 \nQ 2250 4219 1831 4219 \nQ 1534 4219 1204 4116 \nQ 875 4013 500 3803 \nL 500 4441 \nQ 881 4594 1212 4672 \nQ 1544 4750 1819 4750 \nQ 2544 4750 2975 4387 \nQ 3406 4025 3406 3419 \nQ 3406 3131 3298 2873 \nQ 3191 2616 2906 2266 \nQ 2828 2175 2409 1742 \nQ 1991 1309 1228 531 \nz\n\" transform=\"scale(0.015625)\"/>\n       </defs>\n       <use xlink:href=\"#DejaVuSans-32\"/>\n      </g>\n     </g>\n    </g>\n    <g id=\"xtick_3\">\n     <g id=\"line2d_3\">\n      <g>\n       <use xlink:href=\"#m0269f78210\" x=\"139.986202\" y=\"277.111219\" style=\"stroke: #000000; stroke-width: 0.8\"/>\n      </g>\n     </g>\n     <g id=\"text_3\">\n      <!-- 4 -->\n      <g transform=\"translate(136.804952 291.709656)scale(0.1 -0.1)\">\n       <defs>\n        <path id=\"DejaVuSans-34\" d=\"M 2419 4116 \nL 825 1625 \nL 2419 1625 \nL 2419 4116 \nz\nM 2253 4666 \nL 3047 4666 \nL 3047 1625 \nL 3713 1625 \nL 3713 1100 \nL 3047 1100 \nL 3047 0 \nL 2419 0 \nL 2419 1100 \nL 313 1100 \nL 313 1709 \nL 2253 4666 \nz\n\" transform=\"scale(0.015625)\"/>\n       </defs>\n       <use xlink:href=\"#DejaVuSans-34\"/>\n      </g>\n     </g>\n    </g>\n    <g id=\"xtick_4\">\n     <g id=\"line2d_4\">\n      <g>\n       <use xlink:href=\"#m0269f78210\" x=\"194.92774\" y=\"277.111219\" style=\"stroke: #000000; stroke-width: 0.8\"/>\n      </g>\n     </g>\n     <g id=\"text_4\">\n      <!-- 6 -->\n      <g transform=\"translate(191.74649 291.709656)scale(0.1 -0.1)\">\n       <defs>\n        <path id=\"DejaVuSans-36\" d=\"M 2113 2584 \nQ 1688 2584 1439 2293 \nQ 1191 2003 1191 1497 \nQ 1191 994 1439 701 \nQ 1688 409 2113 409 \nQ 2538 409 2786 701 \nQ 3034 994 3034 1497 \nQ 3034 2003 2786 2293 \nQ 2538 2584 2113 2584 \nz\nM 3366 4563 \nL 3366 3988 \nQ 3128 4100 2886 4159 \nQ 2644 4219 2406 4219 \nQ 1781 4219 1451 3797 \nQ 1122 3375 1075 2522 \nQ 1259 2794 1537 2939 \nQ 1816 3084 2150 3084 \nQ 2853 3084 3261 2657 \nQ 3669 2231 3669 1497 \nQ 3669 778 3244 343 \nQ 2819 -91 2113 -91 \nQ 1303 -91 875 529 \nQ 447 1150 447 2328 \nQ 447 3434 972 4092 \nQ 1497 4750 2381 4750 \nQ 2619 4750 2861 4703 \nQ 3103 4656 3366 4563 \nz\n\" transform=\"scale(0.015625)\"/>\n       </defs>\n       <use xlink:href=\"#DejaVuSans-36\"/>\n      </g>\n     </g>\n    </g>\n    <g id=\"xtick_5\">\n     <g id=\"line2d_5\">\n      <g>\n       <use xlink:href=\"#m0269f78210\" x=\"249.869279\" y=\"277.111219\" style=\"stroke: #000000; stroke-width: 0.8\"/>\n      </g>\n     </g>\n     <g id=\"text_5\">\n      <!-- 8 -->\n      <g transform=\"translate(246.688029 291.709656)scale(0.1 -0.1)\">\n       <defs>\n        <path id=\"DejaVuSans-38\" d=\"M 2034 2216 \nQ 1584 2216 1326 1975 \nQ 1069 1734 1069 1313 \nQ 1069 891 1326 650 \nQ 1584 409 2034 409 \nQ 2484 409 2743 651 \nQ 3003 894 3003 1313 \nQ 3003 1734 2745 1975 \nQ 2488 2216 2034 2216 \nz\nM 1403 2484 \nQ 997 2584 770 2862 \nQ 544 3141 544 3541 \nQ 544 4100 942 4425 \nQ 1341 4750 2034 4750 \nQ 2731 4750 3128 4425 \nQ 3525 4100 3525 3541 \nQ 3525 3141 3298 2862 \nQ 3072 2584 2669 2484 \nQ 3125 2378 3379 2068 \nQ 3634 1759 3634 1313 \nQ 3634 634 3220 271 \nQ 2806 -91 2034 -91 \nQ 1263 -91 848 271 \nQ 434 634 434 1313 \nQ 434 1759 690 2068 \nQ 947 2378 1403 2484 \nz\nM 1172 3481 \nQ 1172 3119 1398 2916 \nQ 1625 2713 2034 2713 \nQ 2441 2713 2670 2916 \nQ 2900 3119 2900 3481 \nQ 2900 3844 2670 4047 \nQ 2441 4250 2034 4250 \nQ 1625 4250 1398 4047 \nQ 1172 3844 1172 3481 \nz\n\" transform=\"scale(0.015625)\"/>\n       </defs>\n       <use xlink:href=\"#DejaVuSans-38\"/>\n      </g>\n     </g>\n    </g>\n    <g id=\"xtick_6\">\n     <g id=\"line2d_6\">\n      <g>\n       <use xlink:href=\"#m0269f78210\" x=\"304.810817\" y=\"277.111219\" style=\"stroke: #000000; stroke-width: 0.8\"/>\n      </g>\n     </g>\n     <g id=\"text_6\">\n      <!-- 10 -->\n      <g transform=\"translate(298.448317 291.709656)scale(0.1 -0.1)\">\n       <defs>\n        <path id=\"DejaVuSans-31\" d=\"M 794 531 \nL 1825 531 \nL 1825 4091 \nL 703 3866 \nL 703 4441 \nL 1819 4666 \nL 2450 4666 \nL 2450 531 \nL 3481 531 \nL 3481 0 \nL 794 0 \nL 794 531 \nz\n\" transform=\"scale(0.015625)\"/>\n       </defs>\n       <use xlink:href=\"#DejaVuSans-31\"/>\n       <use xlink:href=\"#DejaVuSans-30\" x=\"63.623047\"/>\n      </g>\n     </g>\n    </g>\n    <g id=\"xtick_7\">\n     <g id=\"line2d_7\">\n      <g>\n       <use xlink:href=\"#m0269f78210\" x=\"359.752356\" y=\"277.111219\" style=\"stroke: #000000; stroke-width: 0.8\"/>\n      </g>\n     </g>\n     <g id=\"text_7\">\n      <!-- 12 -->\n      <g transform=\"translate(353.389856 291.709656)scale(0.1 -0.1)\">\n       <use xlink:href=\"#DejaVuSans-31\"/>\n       <use xlink:href=\"#DejaVuSans-32\" x=\"63.623047\"/>\n      </g>\n     </g>\n    </g>\n   </g>\n   <g id=\"matplotlib.axis_2\">\n    <g id=\"ytick_1\">\n     <g id=\"line2d_8\">\n      <defs>\n       <path id=\"me3836b6741\" d=\"M 0 0 \nL -3.5 0 \n\" style=\"stroke: #000000; stroke-width: 0.8\"/>\n      </defs>\n      <g>\n       <use xlink:href=\"#me3836b6741\" x=\"30.103125\" y=\"277.111219\" style=\"stroke: #000000; stroke-width: 0.8\"/>\n      </g>\n     </g>\n     <g id=\"text_8\">\n      <!-- 0.0 -->\n      <g transform=\"translate(7.2 280.910437)scale(0.1 -0.1)\">\n       <defs>\n        <path id=\"DejaVuSans-2e\" d=\"M 684 794 \nL 1344 794 \nL 1344 0 \nL 684 0 \nL 684 794 \nz\n\" transform=\"scale(0.015625)\"/>\n       </defs>\n       <use xlink:href=\"#DejaVuSans-30\"/>\n       <use xlink:href=\"#DejaVuSans-2e\" x=\"63.623047\"/>\n       <use xlink:href=\"#DejaVuSans-30\" x=\"95.410156\"/>\n      </g>\n     </g>\n    </g>\n    <g id=\"ytick_2\">\n     <g id=\"line2d_9\">\n      <g>\n       <use xlink:href=\"#me3836b6741\" x=\"30.103125\" y=\"223.888819\" style=\"stroke: #000000; stroke-width: 0.8\"/>\n      </g>\n     </g>\n     <g id=\"text_9\">\n      <!-- 0.2 -->\n      <g transform=\"translate(7.2 227.688037)scale(0.1 -0.1)\">\n       <use xlink:href=\"#DejaVuSans-30\"/>\n       <use xlink:href=\"#DejaVuSans-2e\" x=\"63.623047\"/>\n       <use xlink:href=\"#DejaVuSans-32\" x=\"95.410156\"/>\n      </g>\n     </g>\n    </g>\n    <g id=\"ytick_3\">\n     <g id=\"line2d_10\">\n      <g>\n       <use xlink:href=\"#me3836b6741\" x=\"30.103125\" y=\"170.666419\" style=\"stroke: #000000; stroke-width: 0.8\"/>\n      </g>\n     </g>\n     <g id=\"text_10\">\n      <!-- 0.4 -->\n      <g transform=\"translate(7.2 174.465637)scale(0.1 -0.1)\">\n       <use xlink:href=\"#DejaVuSans-30\"/>\n       <use xlink:href=\"#DejaVuSans-2e\" x=\"63.623047\"/>\n       <use xlink:href=\"#DejaVuSans-34\" x=\"95.410156\"/>\n      </g>\n     </g>\n    </g>\n    <g id=\"ytick_4\">\n     <g id=\"line2d_11\">\n      <g>\n       <use xlink:href=\"#me3836b6741\" x=\"30.103125\" y=\"117.444019\" style=\"stroke: #000000; stroke-width: 0.8\"/>\n      </g>\n     </g>\n     <g id=\"text_11\">\n      <!-- 0.6 -->\n      <g transform=\"translate(7.2 121.243237)scale(0.1 -0.1)\">\n       <use xlink:href=\"#DejaVuSans-30\"/>\n       <use xlink:href=\"#DejaVuSans-2e\" x=\"63.623047\"/>\n       <use xlink:href=\"#DejaVuSans-36\" x=\"95.410156\"/>\n      </g>\n     </g>\n    </g>\n    <g id=\"ytick_5\">\n     <g id=\"line2d_12\">\n      <g>\n       <use xlink:href=\"#me3836b6741\" x=\"30.103125\" y=\"64.221619\" style=\"stroke: #000000; stroke-width: 0.8\"/>\n      </g>\n     </g>\n     <g id=\"text_12\">\n      <!-- 0.8 -->\n      <g transform=\"translate(7.2 68.020837)scale(0.1 -0.1)\">\n       <use xlink:href=\"#DejaVuSans-30\"/>\n       <use xlink:href=\"#DejaVuSans-2e\" x=\"63.623047\"/>\n       <use xlink:href=\"#DejaVuSans-38\" x=\"95.410156\"/>\n      </g>\n     </g>\n    </g>\n    <g id=\"ytick_6\">\n     <g id=\"line2d_13\">\n      <g>\n       <use xlink:href=\"#me3836b6741\" x=\"30.103125\" y=\"10.999219\" style=\"stroke: #000000; stroke-width: 0.8\"/>\n      </g>\n     </g>\n     <g id=\"text_13\">\n      <!-- 1.0 -->\n      <g transform=\"translate(7.2 14.798437)scale(0.1 -0.1)\">\n       <use xlink:href=\"#DejaVuSans-31\"/>\n       <use xlink:href=\"#DejaVuSans-2e\" x=\"63.623047\"/>\n       <use xlink:href=\"#DejaVuSans-30\" x=\"95.410156\"/>\n      </g>\n     </g>\n    </g>\n   </g>\n   <g id=\"line2d_14\">\n    <defs>\n     <path id=\"m2f3b1c2c36\" d=\"M 0 3 \nC 0.795609 3 1.55874 2.683901 2.12132 2.12132 \nC 2.683901 1.55874 3 0.795609 3 0 \nC 3 -0.795609 2.683901 -1.55874 2.12132 -2.12132 \nC 1.55874 -2.683901 0.795609 -3 0 -3 \nC -0.795609 -3 -1.55874 -2.683901 -2.12132 -2.12132 \nC -2.683901 -1.55874 -3 -0.795609 -3 0 \nC -3 0.795609 -2.683901 1.55874 -2.12132 2.12132 \nC -1.55874 2.683901 -0.795609 3 0 3 \nz\n\" style=\"stroke: #ff0000\"/>\n    </defs>\n    <g clip-path=\"url(#pc6837f796b)\">\n     <use xlink:href=\"#m2f3b1c2c36\" x=\"30.103125\" y=\"61.242197\" style=\"fill: #ff0000; stroke: #ff0000\"/>\n     <use xlink:href=\"#m2f3b1c2c36\" x=\"57.573894\" y=\"137.719632\" style=\"fill: #ff0000; stroke: #ff0000\"/>\n     <use xlink:href=\"#m2f3b1c2c36\" x=\"85.044663\" y=\"166.212973\" style=\"fill: #ff0000; stroke: #ff0000\"/>\n     <use xlink:href=\"#m2f3b1c2c36\" x=\"112.515433\" y=\"157.516773\" style=\"fill: #ff0000; stroke: #ff0000\"/>\n     <use xlink:href=\"#m2f3b1c2c36\" x=\"139.986202\" y=\"76.406082\" style=\"fill: #ff0000; stroke: #ff0000\"/>\n     <use xlink:href=\"#m2f3b1c2c36\" x=\"167.456971\" y=\"147.764138\" style=\"fill: #ff0000; stroke: #ff0000\"/>\n     <use xlink:href=\"#m2f3b1c2c36\" x=\"194.92774\" y=\"176.774481\" style=\"fill: #ff0000; stroke: #ff0000\"/>\n     <use xlink:href=\"#m2f3b1c2c36\" x=\"222.39851\" y=\"132.443155\" style=\"fill: #ff0000; stroke: #ff0000\"/>\n     <use xlink:href=\"#m2f3b1c2c36\" x=\"249.869279\" y=\"138.167324\" style=\"fill: #ff0000; stroke: #ff0000\"/>\n     <use xlink:href=\"#m2f3b1c2c36\" x=\"277.340048\" y=\"10.999219\" style=\"fill: #ff0000; stroke: #ff0000\"/>\n     <use xlink:href=\"#m2f3b1c2c36\" x=\"304.810817\" y=\"87.756741\" style=\"fill: #ff0000; stroke: #ff0000\"/>\n     <use xlink:href=\"#m2f3b1c2c36\" x=\"332.281587\" y=\"145.986489\" style=\"fill: #ff0000; stroke: #ff0000\"/>\n     <use xlink:href=\"#m2f3b1c2c36\" x=\"359.752356\" y=\"64.242338\" style=\"fill: #ff0000; stroke: #ff0000\"/>\n    </g>\n   </g>\n   <g id=\"patch_3\">\n    <path d=\"M 30.103125 277.111219 \nL 30.103125 10.999219 \n\" style=\"fill: none; stroke: #000000; stroke-width: 0.8; stroke-linejoin: miter; stroke-linecap: square\"/>\n   </g>\n   <g id=\"patch_4\">\n    <path d=\"M 387.223125 277.111219 \nL 387.223125 10.999219 \n\" style=\"fill: none; stroke: #000000; stroke-width: 0.8; stroke-linejoin: miter; stroke-linecap: square\"/>\n   </g>\n   <g id=\"patch_5\">\n    <path d=\"M 30.103125 277.111219 \nL 387.223125 277.111219 \n\" style=\"fill: none; stroke: #000000; stroke-width: 0.8; stroke-linejoin: miter; stroke-linecap: square\"/>\n   </g>\n   <g id=\"patch_6\">\n    <path d=\"M 30.103125 10.999219 \nL 387.223125 10.999219 \n\" style=\"fill: none; stroke: #000000; stroke-width: 0.8; stroke-linejoin: miter; stroke-linecap: square\"/>\n   </g>\n  </g>\n </g>\n <defs>\n  <clipPath id=\"pc6837f796b\">\n   <rect x=\"30.103125\" y=\"10.999219\" width=\"357.12\" height=\"266.112\"/>\n  </clipPath>\n </defs>\n</svg>\n",
      "image/png": "[encoded data removed]"
     },
     "metadata": {}
    }
   ],
   "metadata": {}
  },
  {
   "cell_type": "code",
   "execution_count": 148,
   "source": [
    "PATH=\"/Volumes/Stock/IA/Code/Anylogic/RL_Anylogic/model_saved.txt\"\n",
    "torch.save(agent.state_dict(), PATH)"
   ],
   "outputs": [],
   "metadata": {}
  },
  {
   "cell_type": "code",
   "execution_count": 125,
   "source": [
    "print(list(agent.parameters()))"
   ],
   "outputs": [
    {
     "output_type": "stream",
     "name": "stdout",
     "text": [
      "[Parameter containing:\n",
      "tensor([[-0.0488, -0.1181,  0.1582,  ...,  0.4237,  0.4495,  0.2183],\n",
      "        [-0.2263, -0.0699,  0.0779,  ...,  0.2801, -0.0006, -0.5108],\n",
      "        [-0.1224,  0.1431,  0.3915,  ..., -0.1195,  0.2928,  0.1360],\n",
      "        ...,\n",
      "        [ 0.0175, -0.0403,  0.0033,  ..., -0.2183,  0.1368, -0.1351],\n",
      "        [ 0.3244,  0.2212, -0.1574,  ...,  0.0075,  0.2509, -0.0474],\n",
      "        [-0.2902,  0.1099,  0.1166,  ...,  0.1261,  0.1375,  0.0295]],\n",
      "       requires_grad=True), Parameter containing:\n",
      "tensor([ 3.1228e-02, -1.7345e-02, -2.2247e-02, -2.7110e-02, -1.4712e-02,\n",
      "        -9.2947e-03, -7.5861e-03, -1.3233e-02, -2.0338e-02, -2.1736e-02,\n",
      "         1.5769e-02,  2.9270e-02,  1.9499e-02, -1.6391e-02,  1.9279e-02,\n",
      "         3.0908e-02, -1.3457e-02, -1.7647e-02, -1.9248e-02,  2.3951e-02,\n",
      "        -1.3720e-02,  2.3498e-02, -2.0024e-02, -7.0101e-03,  1.7884e-02,\n",
      "         2.5910e-02, -1.6766e-02,  2.2457e-02,  2.9176e-02, -1.1575e-02,\n",
      "        -1.2006e-02, -1.3355e-02, -1.3855e-02, -8.5171e-03, -1.7887e-02,\n",
      "         2.9527e-02,  1.5907e-02,  2.9472e-02, -1.6503e-02,  2.4319e-02,\n",
      "         2.2807e-02, -1.9478e-02, -1.9448e-02, -1.0992e-03, -1.6685e-02,\n",
      "        -2.1838e-02, -2.7802e-02, -1.3478e-02, -2.3306e-02,  4.3753e-03,\n",
      "        -2.5388e-02, -2.3232e-02,  2.2564e-02, -1.0646e-02, -8.4020e-03,\n",
      "        -1.6160e-02, -3.2342e-02, -3.7299e-05, -1.8242e-02, -1.4424e-03,\n",
      "        -1.5955e-02, -3.1752e-02,  1.9894e-02,  8.2370e-03],\n",
      "       requires_grad=True), Parameter containing:\n",
      "tensor([[-0.1774, -0.1019, -0.0170,  ...,  0.1420,  0.0468,  0.0746],\n",
      "        [-0.3342,  0.0089, -0.0785,  ...,  0.1355,  0.0158,  0.3635],\n",
      "        [-0.2748, -0.0671, -0.1520,  ..., -0.1389,  0.2757,  0.0058],\n",
      "        ...,\n",
      "        [-0.1317, -0.0597,  0.2136,  ..., -0.1768, -0.0332,  0.0377],\n",
      "        [ 0.1169, -0.2818, -0.0604,  ...,  0.1998, -0.1114,  0.0554],\n",
      "        [-0.1928, -0.1562,  0.1180,  ...,  0.0536, -0.2620, -0.0777]],\n",
      "       requires_grad=True), Parameter containing:\n",
      "tensor([-0.0139, -0.0140,  0.0175,  0.0168,  0.0123, -0.0122,  0.0243,  0.0139,\n",
      "         0.0114,  0.0119,  0.0181,  0.0150,  0.0211, -0.0232, -0.0115,  0.0105,\n",
      "        -0.0105, -0.0183,  0.0172,  0.0120,  0.0059, -0.0193,  0.0250, -0.0088,\n",
      "         0.0008, -0.0196,  0.0064, -0.0149, -0.0118, -0.0128, -0.0100,  0.0112,\n",
      "         0.0079,  0.0084,  0.0198,  0.0205, -0.0111, -0.0177,  0.0118,  0.0252,\n",
      "        -0.0258,  0.0118, -0.0080,  0.0036,  0.0181, -0.0037, -0.0263,  0.0211,\n",
      "        -0.0112, -0.0182, -0.0104, -0.0277, -0.0131,  0.0106,  0.0123, -0.0152,\n",
      "         0.0188,  0.0201,  0.0081,  0.0192, -0.0197,  0.0079,  0.0218,  0.0245],\n",
      "       requires_grad=True), Parameter containing:\n",
      "tensor([[ 0.2770,  0.0857, -0.0740, -0.2132, -0.1199,  0.0305, -0.2037, -0.2617,\n",
      "         -0.1200, -0.0946, -0.0575, -0.1055, -0.0076,  0.0666,  0.0973, -0.0045,\n",
      "          0.0024,  0.2906, -0.1426, -0.1407, -0.1088,  0.1669, -0.0027,  0.3452,\n",
      "          0.0402,  0.0329, -0.0042,  0.0619,  0.1037,  0.0174,  0.0470, -0.0563,\n",
      "         -0.0404, -0.0871, -0.0738, -0.0750,  0.1798,  0.0967, -0.0203, -0.1632,\n",
      "          0.0444, -0.0040,  0.0539, -0.0661, -0.2484,  0.0919,  0.0516, -0.0261,\n",
      "          0.1917,  0.0901,  0.1884,  0.2160,  0.0249, -0.0491, -0.0602,  0.1965,\n",
      "         -0.0827, -0.0598, -0.0218, -0.0580,  0.3643, -0.0438, -0.0148, -0.0134]],\n",
      "       requires_grad=True), Parameter containing:\n",
      "tensor([-0.0114], requires_grad=True), Parameter containing:\n",
      "tensor([[ 1.1561e-02, -4.5721e-02,  6.9639e-02,  ..., -3.2505e-04,\n",
      "         -8.8056e-02,  1.3757e-01],\n",
      "        [ 4.0159e-02,  3.5519e-01,  2.8497e-01,  ..., -7.6845e-02,\n",
      "         -1.1119e-01, -1.5964e-01],\n",
      "        [ 1.1167e-01, -2.3414e-01, -9.9689e-02,  ...,  2.8081e-01,\n",
      "         -6.6645e-03, -5.7850e-01],\n",
      "        ...,\n",
      "        [-2.9275e-01, -2.5037e-01,  2.6184e-01,  ..., -3.1994e-01,\n",
      "         -1.0423e-01, -2.0318e-01],\n",
      "        [ 5.9507e-02, -1.2959e-01,  2.6976e-02,  ..., -3.5426e-01,\n",
      "         -2.2252e-01, -9.6588e-02],\n",
      "        [-9.0166e-02, -7.6224e-02, -3.0370e-02,  ...,  1.8417e-01,\n",
      "          1.8029e-01, -2.6861e-01]], requires_grad=True), Parameter containing:\n",
      "tensor([ 2.4083e-10, -4.0360e-11, -6.6711e-11,  7.2048e-10, -1.6194e-10,\n",
      "         3.0708e-10,  5.6483e-10, -1.9029e-10, -4.9859e-11,  2.2330e-10,\n",
      "         1.2046e-10, -4.8761e-10,  9.5066e-10,  1.3671e-10, -4.7445e-10,\n",
      "         4.4296e-10, -2.1989e-10, -1.3205e-10,  3.0041e-10, -7.4129e-12,\n",
      "         3.0902e-10, -2.5760e-10,  2.1188e-11, -1.7255e-10, -1.6883e-10,\n",
      "        -1.5494e-10, -1.7118e-10, -5.2099e-11,  3.8323e-10, -2.9309e-10,\n",
      "        -5.8981e-10,  2.0750e-10,  7.6626e-11,  1.3801e-10,  2.5967e-10,\n",
      "         7.9237e-10, -3.0655e-10, -1.4679e-10,  4.2088e-10, -1.0508e-10,\n",
      "        -6.8012e-10, -3.4314e-10,  5.4497e-10, -2.8106e-10,  1.4766e-10,\n",
      "         5.4418e-11,  2.6064e-10, -6.0987e-11, -3.5522e-11,  7.3722e-10,\n",
      "         1.4150e-10, -3.2159e-10,  1.3658e-10, -1.8394e-10, -5.6319e-10,\n",
      "         2.2168e-10,  1.0652e-09, -2.2057e-10, -4.7936e-10,  3.2282e-10,\n",
      "        -1.9773e-10,  1.5780e-10,  9.0075e-11,  5.1911e-11],\n",
      "       requires_grad=True), Parameter containing:\n",
      "tensor([[ 2.7170e-01,  1.0630e-01, -1.9991e-01,  ...,  9.2371e-02,\n",
      "          1.3609e-01,  5.6626e-02],\n",
      "        [-6.0803e-02,  1.7322e-02, -1.4652e-01,  ..., -3.2380e-01,\n",
      "          1.7058e-01,  2.3599e-02],\n",
      "        [ 3.1829e-06, -2.8216e-01,  1.8054e-01,  ..., -7.9449e-02,\n",
      "         -4.9693e-02,  6.5040e-02],\n",
      "        ...,\n",
      "        [ 2.1153e-01, -2.5560e-01, -1.7915e-01,  ..., -3.6327e-02,\n",
      "          2.8060e-01, -3.4536e-01],\n",
      "        [ 8.1731e-02, -2.3755e-02, -1.8492e-01,  ...,  9.5439e-02,\n",
      "         -9.0946e-02,  2.6007e-01],\n",
      "        [-4.5875e-02, -8.3611e-02,  1.9658e-01,  ..., -1.6425e-01,\n",
      "          5.7967e-02, -9.5221e-02]], requires_grad=True), Parameter containing:\n",
      "tensor([ 6.4669e-10, -5.8460e-10, -5.3969e-10,  5.0304e-10, -6.4486e-10,\n",
      "        -3.1982e-10, -5.6881e-10,  4.3669e-10, -6.5521e-10,  7.3826e-10,\n",
      "        -2.8745e-10, -2.8964e-11, -1.5619e-10,  2.6043e-10, -2.1971e-10,\n",
      "         3.7226e-10, -6.0783e-10,  5.7797e-10, -5.1917e-10,  2.6178e-10,\n",
      "         6.1052e-10,  6.0958e-10,  5.9377e-10,  6.1549e-10, -3.5752e-10,\n",
      "        -7.5090e-10, -4.1320e-10,  2.7182e-10, -1.5256e-10,  7.8674e-10,\n",
      "         7.2689e-10, -6.8194e-10,  6.1847e-10, -1.1563e-11, -7.1226e-10,\n",
      "        -5.1098e-10, -7.0758e-10,  3.3708e-10, -1.3744e-12,  6.0006e-10,\n",
      "        -5.5966e-10, -5.9922e-10,  4.8049e-10,  6.5507e-10, -7.3403e-10,\n",
      "        -4.3895e-10,  7.4341e-10, -6.9196e-10, -3.2570e-10,  4.3204e-10,\n",
      "        -6.8293e-10, -4.4187e-10,  4.4081e-10, -5.5068e-10,  6.2798e-10,\n",
      "        -5.4579e-10, -4.9994e-10,  6.9363e-10,  4.1073e-10, -6.2509e-10,\n",
      "        -3.2605e-10,  8.3770e-10, -6.8225e-10, -2.0903e-10],\n",
      "       requires_grad=True), Parameter containing:\n",
      "tensor([[-6.4367e-05, -3.1852e-04, -1.5937e-03,  ...,  1.0650e-03,\n",
      "          9.0243e-04, -5.8657e-04],\n",
      "        [-6.1059e-04,  1.3919e-03, -7.5677e-04,  ..., -3.3543e-04,\n",
      "          1.0498e-04,  1.1818e-03],\n",
      "        [-2.3570e-04, -1.4697e-04,  6.1689e-04,  ..., -1.0116e-04,\n",
      "          1.2051e-03, -5.5650e-04],\n",
      "        ...,\n",
      "        [ 5.8257e-04,  1.7206e-03, -8.1071e-04,  ...,  1.4237e-03,\n",
      "         -6.2294e-04,  1.0010e-04],\n",
      "        [-6.3595e-04, -9.9446e-04,  6.2522e-04,  ..., -8.4647e-04,\n",
      "         -9.6125e-04,  9.2413e-05],\n",
      "        [-7.0747e-04,  1.9388e-03, -1.3208e-03,  ..., -2.4884e-03,\n",
      "          1.6363e-04, -3.6064e-04]], requires_grad=True), Parameter containing:\n",
      "tensor([-5.8100e-08, -2.1356e-08, -3.2314e-08, -7.6684e-08,  3.5014e-08,\n",
      "         2.2445e-08, -3.4761e-08, -3.9183e-08,  8.1613e-08,  2.0103e-08,\n",
      "         7.9790e-08,  6.6641e-08,  7.9415e-08,  5.9624e-08,  1.0467e-07,\n",
      "        -9.6923e-09,  3.1837e-08,  1.0703e-07,  1.2679e-08, -3.8169e-08,\n",
      "         7.2509e-09,  2.2899e-08,  4.2243e-09, -1.3109e-07,  8.9115e-08,\n",
      "         1.7971e-07, -2.7362e-08, -1.7069e-08, -5.6657e-08,  9.8258e-08,\n",
      "        -1.3801e-07, -1.2904e-07, -7.8807e-08, -6.5097e-08, -9.1619e-08,\n",
      "        -8.5873e-08, -1.5295e-07,  1.5800e-08, -1.8883e-08, -4.3725e-08,\n",
      "         1.4550e-08, -5.0959e-08, -6.1278e-09,  9.6709e-09,  8.0409e-08,\n",
      "         6.9895e-08,  1.5166e-07,  2.1571e-08, -5.0165e-08, -1.2180e-08,\n",
      "        -4.2921e-08, -6.1287e-08,  7.2033e-08, -2.8599e-08, -5.6997e-08,\n",
      "        -2.2995e-08,  1.6050e-07, -4.2240e-08, -7.3137e-08,  1.2785e-07,\n",
      "        -5.5192e-08, -7.0826e-08, -1.2202e-07,  1.7936e-08, -6.4188e-08,\n",
      "        -1.4240e-07,  3.6496e-08,  2.2341e-07, -8.9161e-08,  9.1572e-08,\n",
      "        -1.1760e-07,  3.0621e-08,  4.0587e-08,  6.6702e-08,  3.3125e-08,\n",
      "        -1.6414e-07,  1.7106e-07,  2.5758e-08, -5.0422e-08, -4.2177e-08,\n",
      "        -1.1238e-08, -5.1805e-08, -3.7154e-08,  1.1228e-07,  1.5319e-07,\n",
      "         4.9266e-10,  1.3651e-07, -4.1808e-09,  5.7875e-08, -1.1317e-07,\n",
      "         1.8994e-07, -7.7159e-08, -4.2716e-09,  9.2888e-09, -1.4407e-07,\n",
      "         5.5868e-08, -1.1963e-07,  5.6586e-08,  1.5792e-08, -7.6504e-08,\n",
      "        -1.7749e-07,  1.0712e-07, -1.1035e-07,  2.6561e-08, -1.6313e-08,\n",
      "        -1.7507e-07,  9.1241e-08, -9.1647e-08, -5.4776e-08,  1.3074e-07,\n",
      "        -8.8246e-08,  6.2784e-08,  3.1498e-08, -8.1020e-08, -1.1577e-07,\n",
      "        -5.8045e-09,  3.8707e-08, -7.2612e-08,  1.2651e-07,  5.7885e-08,\n",
      "         1.8943e-08,  4.3008e-08,  7.5686e-08,  1.1756e-07,  1.4019e-07,\n",
      "        -1.3561e-08, -9.6246e-08, -7.1973e-08,  3.8923e-08,  5.0819e-09,\n",
      "        -5.1821e-08, -9.8867e-08, -3.3914e-08,  1.8167e-07,  1.1120e-07,\n",
      "         7.4805e-08,  6.8207e-08, -5.0508e-08,  1.7200e-07, -3.5597e-08,\n",
      "        -7.5571e-08, -1.7742e-08,  5.8305e-09,  1.4362e-09, -2.0237e-08,\n",
      "         2.7814e-08, -9.8458e-08,  2.4177e-08,  1.5211e-08, -1.4119e-07],\n",
      "       requires_grad=True)]\n"
     ]
    }
   ],
   "metadata": {}
  },
  {
   "cell_type": "markdown",
   "source": [
    "## ALPyne : "
   ],
   "metadata": {}
  },
  {
   "cell_type": "code",
   "execution_count": null,
   "source": [
    "#L=torch.Tensor([])\n",
    "x=torch.tensor([2])\n",
    "L=torch.cat((L,x))\n",
    "print(L)\n"
   ],
   "outputs": [],
   "metadata": {}
  },
  {
   "cell_type": "markdown",
   "source": [
    "ALPyne (AnyLogic-Python connector) est un outil implémenté pour connecter l'environnement du simulateur anylogic avec des algorithmes python qui permettent l'entraînement d'un modèle RL en se basant sur le modèle exporté de Anylogic."
   ],
   "metadata": {}
  },
  {
   "cell_type": "markdown",
   "source": [
    "    Anylogic est un outil de simulation pour les environnements industriels, plus d'infos : https://www.anylogic.com/"
   ],
   "metadata": {}
  },
  {
   "cell_type": "markdown",
   "source": [
    "## Entrainement du modele "
   ],
   "metadata": {}
  },
  {
   "cell_type": "markdown",
   "source": [
    "Dans cette partie, nous établissons un lien entre l'environnement Anylogic et l'environnement d'entraînement Python en utilisant la bibliothèque Alpyne.\n"
   ],
   "metadata": {}
  },
  {
   "cell_type": "markdown",
   "source": [
    "Le rôle d'Alpyne est de permettre l'utilisation de l'environnement développé sur Anylogic comme environnement virtuel pour entraîner un modèle de décision utilisant un algorithme RL.\n"
   ],
   "metadata": {}
  },
  {
   "cell_type": "markdown",
   "source": [
    "\n",
    "Dans ce qui suit, un exemple d'entraînement d'un modèle décisionnel PPO sur un environnement de parc éolien est présenté. Le modèle récupère l'observation (l'état actuel de l'environnement) et prend une action sous forme d'envoi d'équipes de réparation, l'action est transmise et exécutée par l'environnement qui change d'état et renvoie une récompense qui définit la qualité de l'action précédente.\n"
   ],
   "metadata": {}
  },
  {
   "cell_type": "markdown",
   "source": [
    "\n",
    "OpenAI développe une bibliothèque de base stable dont le PPO fait partie des algorithmes RL implémentés, le PPO implémenté dans cette bibliothèque est plus optimisé. Le PPO implémenté nécessite l'utilisation d'un environnement compatible avec les normes de la bibliothèque de gymnastique. Afin de répondre à ce besoin, alpyne fournit une classe abstraite \"BaseAlpyneEnv\" qui permet d'implémenter les fonctions d'un environnement de gym.\n"
   ],
   "metadata": {}
  },
  {
   "cell_type": "markdown",
   "source": [
    "\n",
    "Il est conseillé de redémarrer l'environnement d'exécution python lors de l'apprentissage d'un nouveau modèle, car dans de nombreux cas, le serveur créé par Alpyne reste actif après la fin de l'exécution."
   ],
   "metadata": {}
  },
  {
   "cell_type": "code",
   "execution_count": null,
   "source": [
    "### cette fonction retourne une instance de l'environnement gym avec l'id correspondant\n",
    "\"\"\"Cette implmentation pour verifier l'algorithme aec gym  environement\"\"\"\n",
    "def make_env(gym_id, seed, idx, capture_video, run_name):\n",
    "    def thunk():\n",
    "        env = gym.make(gym_id)\n",
    "        env = gym.wrappers.RecordEpisodeStatistics(env)\n",
    "        if capture_video:\n",
    "            if idx == 0:\n",
    "                env = gym.wrappers.RecordVideo(env, f\"videos/{run_name}\")\n",
    "        env.seed=seed\n",
    "        env.action_space.seed(seed)\n",
    "        env.observation_space.seed(seed)\n",
    "        return env\n",
    "\n",
    "    return thunk"
   ],
   "outputs": [],
   "metadata": {}
  },
  {
   "cell_type": "code",
   "execution_count": null,
   "source": [
    "import numpy as np\n",
    "import gym\n",
    "# gym pour implémenter l'environnement d'apprentissage\n",
    "from gym import spaces\n",
    "\n",
    "# on utilise les blocs Try:Except: afin de supprimer les commentaires d'installation ou avertassiement.\n",
    "\n",
    "from alpyne.client.alpyne_client import AlpyneClient\n",
    "from alpyne.client.model_run import ModelRun\n",
    "from alpyne.data.spaces import Observation, Action\n",
    "\n",
    "from alpyne.client.abstract import BaseAlpyneEnv\n",
    "\n",
    "# création de l'environnement d'apprentissage avec standards gym à travers l'héritage et implémentation des\n",
    "# fonctions de BaseAlpyneEnv\n",
    "\n",
    "class EolienParc(BaseAlpyneEnv):\n",
    "\n",
    "    def __init__(self, sim: ModelRun):\n",
    "        super().__init__(sim)\n",
    "\n",
    "    # définie l'espace des observation sous forme d'un vecteur avec les valeurs min et max de chaque champs\n",
    "    def _get_observation_space(self) -> spaces.Space:\n",
    "        low1 = np.zeros(50)\n",
    "        high1 = np.ones(50)\n",
    "        low2 = np.zeros(3)\n",
    "        high2 = np.ones(3)\n",
    "        low3 = np.array([0, 0, 0])\n",
    "        high3 = np.array([50, 50, 50])\n",
    "        low4 = np.array([-4500])\n",
    "        high4 = np.array([+4500])\n",
    "        return spaces.Box(low=np.concatenate((low1, low2, low3, low4)), high=np.concatenate((high1, high2, high3, high4)))\n",
    "\n",
    "    # transformer l'observation récupérer par anylogic sous forme d'un vecteur de type Space de gym\n",
    "    def _convert_from_observation(self, observation: Observation):\n",
    "        print(\"observation.etatequipement\")\n",
    "        print(observation.etatequipement)\n",
    "        print(\"observation.disponibleequipe\")\n",
    "        print(observation.disponibleequipe)\n",
    "        print(\"observation.emplequipe\")\n",
    "        print(observation.emplequipe)\n",
    "        print(\"observation.recompns\")\n",
    "        print(observation.recompns)\n",
    "        print(\"FIN\")\n",
    "        return np.array(np.concatenate((observation.etatequipement, observation.disponibleequipe, observation.emplequipe)))\n",
    "\n",
    "    # définie l'espace d'action sous forme d'un vecteur avec les valeurs min et max de chaque action\n",
    "    def _get_action_space(self) -> spaces.Space:\n",
    "        return spaces.Box(low=np.array([0, 0, 0]), high=np.array([50, 50, 50]), shape=(3,), dtype=np.int64)\n",
    "\n",
    "    # transformer l'action prise par l'actor sous forme d'un vecteur à une action de type Action de Alpyne pour\n",
    "    # la communiquer avec le serveur alpyne\n",
    "    def _convert_to_action(self, action: np.ndarray) -> Action:\n",
    "        if(action[0] == action[1]):\n",
    "            action[1] = 50\n",
    "        if(action[0] == action[2]):\n",
    "            action[2] = 50\n",
    "        if(action[1] == action[2]):\n",
    "            action[2] = 50\n",
    "        return Action(req1=int(action[0]), req2=int(action[1]), req3=int(action[2]))\n",
    "\n",
    "    # calcul de la récompense\n",
    "    def _calc_reward(self, observation: Observation) -> float:\n",
    "        return observation.recompns\n",
    "\n",
    "    # définie une état terminale de l'epsode hors un nombre limité de pas\n",
    "    def _terminal_alternative(self, observation: Observation) -> bool:\n",
    "        eq = np.array(observation.etatequipement)\n",
    "        return np.count_nonzero(eq) >= 49\n",
    "        # arbitrarily chosen small(ish) number\n",
    "\n",
    "\n",
    "#sim = client.create_reinforcement_learning(cfg)\n",
    "\n",
    "# utiliser notre implémentation de l'environnement\n",
    "env = EolienParc(sim)\n",
    "\n",
    "env._get_observation_space()\n",
    "\n"
   ],
   "outputs": [],
   "metadata": {}
  }
 ],
 "metadata": {
  "kernelspec": {
   "name": "python3",
   "display_name": "Python 3.8.13 64-bit (conda)"
  },
  "language_info": {
   "codemirror_mode": {
    "name": "ipython",
    "version": 3
   },
   "file_extension": ".py",
   "mimetype": "text/x-python",
   "name": "python",
   "nbconvert_exporter": "python",
   "pygments_lexer": "ipython3",
   "version": "3.8.13"
  },
  "interpreter": {
   "hash": "1196c54bf83d23baa2b94a171650cda2fb5924a7b3110c84ce52ab2c5ef53ca5"
  }
 },
 "nbformat": 4,
 "nbformat_minor": 5
}